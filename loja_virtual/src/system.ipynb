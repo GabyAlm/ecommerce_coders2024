{
 "cells": [
  {
   "cell_type": "markdown",
   "metadata": {},
   "source": [
    "### Inicio"
   ]
  },
  {
   "cell_type": "code",
   "execution_count": 5,
   "metadata": {},
   "outputs": [],
   "source": [
    "caminho = 'data/estoque_de_produtos.txt'"
   ]
  },
  {
   "cell_type": "markdown",
   "metadata": {},
   "source": [
    "#### Abrindo arquivo"
   ]
  },
  {
   "cell_type": "code",
   "execution_count": 8,
   "metadata": {},
   "outputs": [
    {
     "name": "stdout",
     "output_type": "stream",
     "text": [
      "{'293': {'nome': 'Temperos Variados', 'preco': 30.0, 'estoque': 2, 'descricao': 'Variados', 'status': '1'}}\n"
     ]
    }
   ],
   "source": [
    "with open(caminho, 'r') as arquivo_base:\n",
    "    dicionario_produtos = {} # Iniciando o dicionario de produtos vazio\n",
    "\n",
    "    next(arquivo_base) # Pulando a primeira linha do arquivo\n",
    "\n",
    "    for linha in arquivo_base:\n",
    "        dados = linha.strip().split('\\t') #Fazendo a quebra do texto com o \\t\n",
    "\n",
    "        if len(dados) == 6: #Anexando somente os que tem as 5 linhas preenchidas\n",
    "            id, nome, preco, estoque, descricao, status = dados\n",
    "        elif len(dados) == 4:\n",
    "            id, nome, preco, estoque, status = dados\n",
    "            descricao = \"\"\n",
    "        else:\n",
    "            print(f\"Linha ignorada por ter um número incorreto de campos: {linha}\")\n",
    "            continue\n",
    "        \n",
    "        dicionario_produtos[id] = {\n",
    "            'nome': nome,\n",
    "            'preco': float(preco),\n",
    "            'estoque': int(estoque),\n",
    "            'descricao': descricao,\n",
    "            'status': status\n",
    "        }\n",
    "\n",
    "\n",
    "print(dicionario_produtos)"
   ]
  },
  {
   "cell_type": "markdown",
   "metadata": {},
   "source": [
    "#### Cadastrando produto"
   ]
  },
  {
   "cell_type": "code",
   "execution_count": 9,
   "metadata": {},
   "outputs": [],
   "source": [
    "def cadastrar_produto(dicionario_produtos, chave, nome, preco, estoque, descricao, status=1):\n",
    "    dicionario_produtos[chave] = {\n",
    "        'nome': nome,\n",
    "        'preco': preco,\n",
    "        'estoque': estoque,\n",
    "        'descricao': descricao,\n",
    "        'status': str(status)\n",
    "    }\n",
    "    \n",
    "    return dicionario_produtos"
   ]
  },
  {
   "cell_type": "markdown",
   "metadata": {},
   "source": [
    "#### Salvamento dos dados cadastrados"
   ]
  },
  {
   "cell_type": "code",
   "execution_count": 16,
   "metadata": {},
   "outputs": [],
   "source": [
    "with open(caminho, 'w') as arquivo_base:\n",
    "    arquivo_base.write(\"chave\\tnome\\tpreco\\testoque\\tdescricao\\tstatus\\n\")\n",
    "    \n",
    "    for chave, produto in dicionario_produtos.items():\n",
    "        lista = f\"{chave}\\t{produto['nome']}\\t{produto['preco']}\\t{produto['estoque']}\\t{produto['descricao']}\\t{produto['status']}\\n\"\n",
    "        arquivo_base.write(lista)"
   ]
  },
  {
   "cell_type": "markdown",
   "metadata": {},
   "source": [
    "#### Atualizando informações"
   ]
  },
  {
   "cell_type": "code",
   "execution_count": 11,
   "metadata": {},
   "outputs": [],
   "source": [
    "def atualizar_informacoes(dicionario, chave_produto, info_produto, novo_valor):\n",
    "    dicionario[chave_produto].update({info_produto: novo_valor})"
   ]
  },
  {
   "cell_type": "markdown",
   "metadata": {},
   "source": [
    "#### Removendo informações"
   ]
  },
  {
   "cell_type": "code",
   "execution_count": 12,
   "metadata": {},
   "outputs": [],
   "source": [
    "def excluir_produto(dicionario, chave, status_produto):\n",
    "    dicionario[chave].update({'status': 0})"
   ]
  },
  {
   "cell_type": "markdown",
   "metadata": {},
   "source": [
    "#### Realizando venda"
   ]
  },
  {
   "cell_type": "code",
   "execution_count": 14,
   "metadata": {},
   "outputs": [],
   "source": [
    "def relatorio(venda):\n",
    "    caminho_vendas = 'data/Relatório_de_vendas.txt'\n",
    "\n",
    "    with open(caminho_vendas, 'a') as arquivo_base:\n",
    "        \n",
    "        for chave, produto in venda.items():\n",
    "            lista = f\"\\t{venda['Produto']}\\t{venda['Quantidade']}\\t{venda['Preço']}\\t{venda['Total da Venda']}\\n\"\n",
    "            arquivo_base.write(lista)\n",
    "            \n",
    "    return \n",
    "\n",
    "\n",
    "def realizar_venda(chave, quantidade_venda):\n",
    "\n",
    "    valor_total = quantidade_venda * dicionario_produtos[chave][\"preco\"]\n",
    "    dicionario_produtos[chave][\"estoque\"] -= quantidade_venda\n",
    "\n",
    "    registro_venda = {\n",
    "        'Produto': dicionario_produtos[chave][\"nome\"],\n",
    "        'Quantidade': quantidade_venda,\n",
    "        'Preço': dicionario_produtos[chave][\"preco\"],\n",
    "        'Total da Venda': valor_total\n",
    "    }\n",
    "\n",
    "\n",
    "    print(registro_venda)\n",
    "\n",
    "    print(f\"Venda realizada com sucesso!\")\n",
    "    relatorio(registro_venda)\n",
    "\n",
    "    return registro_venda"
   ]
  },
  {
   "cell_type": "markdown",
   "metadata": {},
   "source": [
    "#### Sistema"
   ]
  },
  {
   "cell_type": "code",
   "execution_count": null,
   "metadata": {},
   "outputs": [],
   "source": [
    "menu_atualizar_produtos = '''\n",
    "-- -- -- -- -- -- -- -- -- -- -- -- -- -- -- -- -- \n",
    "| Opções                                          |\n",
    "| 1. Nome                                         |\n",
    "| 2. Preço                                        |\n",
    "| 3. Estoque                                      |\n",
    "| 4. Descrição do produto                         |\n",
    "| 5. Status                                       | \n",
    "| 6. Sair                                         |\n",
    "-- -- -- -- -- -- -- -- -- -- -- -- -- -- -- -- -- \n",
    "'''\n",
    "menu = '''\n",
    "-- -- -- -- -- -- -- -- -- -- -- -- -- -- -- -- -- \n",
    "| Sistema de Gerenciamento de Inventário e Vendas  |\n",
    "| 1. Cadastrar Produto                             |\n",
    "| 2. Atualizar Produto                             |\n",
    "| 3. Excluir Produto                               |\n",
    "| 4. Realizar Venda                                |\n",
    "| 5. Sair                                          |\n",
    "-- -- -- -- -- -- -- -- -- -- -- -- -- -- -- -- -- \n",
    "'''\n",
    "\n",
    "while True:\n",
    "\n",
    "    print(menu)\n",
    "    \n",
    "    escolha = input(\"Escolha uma opção do menu: \")\n",
    "    if escolha == \"1\":\n",
    "        try:\n",
    "            # Entrada do usuário\n",
    "            chave = input('Digite o valor da chave: ')\n",
    "                # Conversão e validação\n",
    "            if chave in dicionario_produtos:\n",
    "                print(\"Chave existente! Digite um novo valor para chave: \")\n",
    "            else:\n",
    "                nome = input('Digite o nome do produto: ')\n",
    "                while True:\n",
    "                    try:\n",
    "                        valor = input('Digite o valor do produto: ')\n",
    "                        converter_valor = float(valor)\n",
    "                        #print(f\"Preço do produto atualizado com sucesso!\")\n",
    "                        break  # Sai do loop se a conversão for bem-sucedida\n",
    "                    except ValueError:\n",
    "                        print(\"Entrada inválida para o preço. Digite um número.\")\n",
    "\n",
    "                estoque = input('Digite a quantidade de estoque: ')\n",
    "                try:\n",
    "                    estoque = int(estoque)\n",
    "                except ValueError:\n",
    "                    print(f\"Entrada inválida para o estoque: '{estoque}' não é um número.\")\n",
    "\n",
    "                descricao = input('Digite a descrição: ')\n",
    "\n",
    "            # Se todas as validações passaram, adiciona o produto\n",
    "            cadastrar_produto(dicionario_produtos, chave, nome, valor, estoque, descricao)\n",
    "\n",
    "        except TypeError as te:\n",
    "            print(f\"Erro no processo: {te}\")\n",
    "\n",
    "        # Mostrando o dicionário final\n",
    "        dicionario = dicionario_produtos\n",
    "        print(f\"O produto {nome} de valor R$ {preco}, foi adicionado com a quantidade {estoque}.\")\n",
    "\n",
    "    elif escolha == \"2\":\n",
    "        try:\n",
    "            chave_inteiro = int(input(\"Digite o código do produto que deseja atualizar: \"))\n",
    "            chave = str(chave_inteiro)\n",
    "            print(\"Produto selecionado: \")\n",
    "            print(dicionario[chave])\n",
    "            while True:\n",
    "                print(menu_atualizar_produtos)\n",
    "                opcao = int(input('Digite o número equivalente ao campo que você deseja atualizar: '))\n",
    "\n",
    "                if opcao == 1:\n",
    "                    nome_atualizado = input(\"Atualize o nome do produto: \")\n",
    "                    atualizar_informacoes(dicionario, chave, \"nome\", nome_atualizado)\n",
    "                    print(\"Nome do produto atualizado com sucesso!.\")\n",
    "                elif opcao == 2:\n",
    "                    try:\n",
    "                        preco_atualizado = (input(\"Atualize o preço do produto: \"))\n",
    "                        converter_preco_atualizado = float(preco_atualizado)\n",
    "                        atualizar_informacoes(dicionario, chave, \"preco\", preco_atualizado)\n",
    "                        print(f\"Preço do produto {nome} atualizado com sucesso!.\")\n",
    "                    except TypeError:\n",
    "                        print(\"Entrada inválida para o preço. Digite um número.\")   \n",
    "                elif opcao == 3:\n",
    "                    estoque_atualizado = int(input(\"Atualize a quantidade do produto: \"))\n",
    "                    atualizar_informacoes(dicionario, chave, \"estoque\", estoque_atualizado)\n",
    "                    print(f\"Quantidade do produto {nome} atualizado com sucesso!.\")\n",
    "                elif opcao == 4:\n",
    "                    descricao_atualizada = float(input(\"Atualize o descrição do produto: \"))\n",
    "                    atualizar_informacoes(dicionario, chave, \"descricao\", descricao_atualizada)\n",
    "                    print(f\"Descrição do produto atualizada com sucesso!.\")\n",
    "                elif opcao == 5:\n",
    "                    status_atualizado = input(\"Atualize o status do produto: \")\n",
    "                    atualizar_informacoes(dicionario, chave, \"status\", status_atualizado)\n",
    "                elif opcao == 6:\n",
    "                    break\n",
    "                else:\n",
    "                    print(\"Digite apenas uma das opções do menu.\")\n",
    "                print(dicionario[chave])\n",
    "        except ValueError:\n",
    "            print(\"Entrada inválida. Por favor, digite um número inteiro.\")\n",
    "    elif escolha == \"3\":\n",
    "        try:\n",
    "            chave_remocao_int = int(input(\"Digite a chave do produto que você deseja remover\"))\n",
    "            chave_remocao = str(chave_remocao_int)\n",
    "\n",
    "            if not chave_remocao in dicionario:\n",
    "                print(\"Digite um valor válido para a chave do produto!\")\n",
    "            else:\n",
    "                excluir_produto(dicionario, chave_remocao, status)\n",
    "                print(dicionario[chave_remocao])\n",
    "        except TypeError:\n",
    "            print(\"Entrada inválida. Por favor, digite um número inteiro.\")\n",
    "    elif escolha == \"4\":\n",
    "        try:  \n",
    "            chave_venda = input(\"Digite o ID do produto a ser vendido: \")\n",
    "        except:\n",
    "            if chave_venda not in dicionario_produtos:\n",
    "                print(\"Erro: Produto não encontrado.\")\n",
    "        try:\n",
    "            quantidade_venda = int(input(\"Quantidade a ser vendida: \"))\n",
    "            if dicionario_produtos[chave][\"estoque\"] < 0:\n",
    "                print('Erro: Estoque insuficiente.')\n",
    "            if quantidade_venda > dicionario_produtos[chave][\"estoque\"]:\n",
    "                print(\"Erro: Estoque insuficiente.\")\n",
    "            else:\n",
    "                realizar_venda()  \n",
    "        except:\n",
    "            print('Erro!')\n",
    "    elif escolha == \"5\":\n",
    "        print(\"Volte Sempre!\")\n",
    "        break\n",
    "    else:\n",
    "        print('Digite uma opção valida para o sistema.')\n",
    "        "
   ]
  }
 ],
 "metadata": {
  "kernelspec": {
   "display_name": "loja_virtual",
   "language": "python",
   "name": "python3"
  },
  "language_info": {
   "codemirror_mode": {
    "name": "ipython",
    "version": 3
   },
   "file_extension": ".py",
   "mimetype": "text/x-python",
   "name": "python",
   "nbconvert_exporter": "python",
   "pygments_lexer": "ipython3",
   "version": "3.11.2"
  }
 },
 "nbformat": 4,
 "nbformat_minor": 2
}
