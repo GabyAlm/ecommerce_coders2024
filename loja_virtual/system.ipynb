{
 "cells": [
  {
   "cell_type": "code",
   "execution_count": 1,
   "metadata": {},
   "outputs": [],
   "source": [
    "caminho = 'data/estoque_de_produtos.txt'"
   ]
  },
  {
   "cell_type": "code",
   "execution_count": 2,
   "metadata": {},
   "outputs": [
    {
     "name": "stdout",
     "output_type": "stream",
     "text": [
      "{'293': {'nome': 'Temperos Variados', 'preco': 30.0, 'estoque': 2, 'descricao': 'Variados', 'status': '1'}, '2': {'nome': 'dwfdfb', 'preco': 3.0, 'estoque': 2, 'descricao': '', 'status': '1'}, '3': {'nome': 'sdfg', 'preco': 6.0, 'estoque': 3, 'descricao': '', 'status': '1'}}\n"
     ]
    }
   ],
   "source": [
    "with open(caminho, 'r') as arquivo_base:\n",
    "    dicionario_produtos = {} # Iniciando o dicionario de produtos vazio\n",
    "\n",
    "    next(arquivo_base) # Pulando a primeira linha do arquivo\n",
    "\n",
    "    for linha in arquivo_base:\n",
    "        dados = linha.strip().split('\\t') #Fazendo a quebra do texto com o \\t\n",
    "\n",
    "        if len(dados) == 6: #Anexando somente os que tem as 5 linhas preenchidas\n",
    "            id, nome, preco, estoque, descricao, status = dados\n",
    "        elif len(dados) == 4:\n",
    "            id, nome, preco, estoque, status = dados\n",
    "            descricao = \"\"\n",
    "        else:\n",
    "            print(f\"Linha ignorada por ter um número incorreto de campos: {linha}\")\n",
    "            continue\n",
    "        \n",
    "        dicionario_produtos[id] = {\n",
    "            'nome': nome,\n",
    "            'preco': float(preco),\n",
    "            'estoque': int(estoque),\n",
    "            'descricao': descricao,\n",
    "            'status': status\n",
    "        }\n",
    "\n",
    "\n",
    "print(dicionario_produtos)"
   ]
  },
  {
   "cell_type": "code",
   "execution_count": 3,
   "metadata": {},
   "outputs": [
    {
     "name": "stdout",
     "output_type": "stream",
     "text": [
      "Produto 'Carteira' adicionado ao dicionário.\n",
      "{'293': {'nome': 'Temperos Variados', 'preco': 30.0, 'estoque': 2, 'descricao': 'Variados', 'status': '1'}, '2': {'nome': 'dwfdfb', 'preco': 3.0, 'estoque': 2, 'descricao': '', 'status': '1'}, '3': {'nome': 'sdfg', 'preco': 6.0, 'estoque': 3, 'descricao': '', 'status': '1'}, 54: {'nome': 'Carteira', 'preco': 60.9, 'estoque': 75, 'descricao': 'Acessorios', 'status': '1'}}\n"
     ]
    }
   ],
   "source": [
    "def cadastrar_produto(dicionario_produtos, chave, nome, preco, estoque, descricao, status=1):\n",
    "    dicionario_produtos[chave] = {\n",
    "        'nome': nome,\n",
    "        'preco': preco,\n",
    "        'estoque': estoque,\n",
    "        'descricao': descricao,\n",
    "        'status': str(status)\n",
    "    }\n",
    "    print(f\"Produto '{nome}' adicionado ao dicionário.\")\n",
    "    return dicionario_produtos\n",
    "\n",
    "try:\n",
    "    chave = input('Digite o valor da chave: ')\n",
    "    nome = input('Digite o nome do produto: ')\n",
    "    valor = input('Digite o valor do produto: ')\n",
    "    estoque = input('Digite a quantidade de estoque: ')\n",
    "    descricao = input('Digite a descrição: ')\n",
    "    try:\n",
    "        chave = int(chave)\n",
    "    except ValueError:\n",
    "        raise TypeError(f\"Entrada inválida para a chave: '{chave}' não é um número inteiro.\")\n",
    "    \n",
    "    try:\n",
    "        valor = float(valor)\n",
    "    except ValueError:\n",
    "        raise TypeError(f\"Entrada inválida para o valor: '{valor}' não é um número decimal.\")\n",
    "    \n",
    "    try:\n",
    "        estoque = int(estoque)\n",
    "    except ValueError:\n",
    "        raise TypeError(f\"Entrada inválida para o estoque: '{estoque}' não é um número inteiro.\")\n",
    "    \n",
    "    cadastrar_produto(dicionario_produtos, chave, nome, valor, estoque, descricao)\n",
    "\n",
    "except TypeError as te:\n",
    "    print(f\"Erro no processo: {te}\")\n",
    "    \n",
    "dicionario = dicionario_produtos\n",
    "print(dicionario)"
   ]
  },
  {
   "cell_type": "code",
   "execution_count": 4,
   "metadata": {},
   "outputs": [],
   "source": [
    "with open(caminho, 'w') as arquivo_base:\n",
    "    arquivo_base.write(\"chave\\tnome\\tpreco\\testoque\\tdescricao\\tstatus\\n\")\n",
    "    \n",
    "    for chave, produto in dicionario.items():\n",
    "        lista = f\"{chave}\\t{produto['nome']}\\t{produto['preco']}\\t{produto['estoque']}\\t{produto['descricao']}\\t{produto['status']}\\n\"\n",
    "        arquivo_base.write(lista)"
   ]
  }
 ],
 "metadata": {
  "kernelspec": {
   "display_name": "loja_virtual",
   "language": "python",
   "name": "python3"
  },
  "language_info": {
   "codemirror_mode": {
    "name": "ipython",
    "version": 3
   },
   "file_extension": ".py",
   "mimetype": "text/x-python",
   "name": "python",
   "nbconvert_exporter": "python",
   "pygments_lexer": "ipython3",
   "version": "3.11.2"
  }
 },
 "nbformat": 4,
 "nbformat_minor": 2
}
